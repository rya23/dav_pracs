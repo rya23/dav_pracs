{
 "cells": [
  {
   "cell_type": "code",
   "execution_count": 8,
   "id": "18db5798",
   "metadata": {},
   "outputs": [],
   "source": [
    "X = [1, 2, 3, 4, 5]\n",
    "y = [2, 4, 5, 4, 5]"
   ]
  },
  {
   "cell_type": "code",
   "execution_count": 9,
   "id": "a2c4c89b",
   "metadata": {},
   "outputs": [],
   "source": [
    "class Linear:\n",
    "    def __init__(self):\n",
    "        self.slope=0\n",
    "        self.intercept=0\n",
    "\n",
    "    def fit(self,X,y):\n",
    "        n = len(X)\n",
    "        Xmean=sum(X)/n\n",
    "        ymean=sum(y)/n\n",
    "\n",
    "        num=0\n",
    "        den=0\n",
    "        for i in range(n):\n",
    "            Xdiff = X[i]-Xmean\n",
    "            ydiff = y[i]-ymean\n",
    "            num+=Xdiff*ydiff\n",
    "            den+=Xdiff**2\n",
    "        self.slope = num/den\n",
    "        self.intercept = ymean-self.slope*Xmean\n",
    "    \n",
    "    def predict(self,X):\n",
    "        return [self.slope*x + self.intercept for x in X]\n",
    "\n",
    "    "
   ]
  },
  {
   "cell_type": "code",
   "execution_count": 11,
   "id": "426cab6f",
   "metadata": {},
   "outputs": [
    {
     "name": "stdout",
     "output_type": "stream",
     "text": [
      "Slope : 0.6 Intercept : 2.2\n"
     ]
    },
    {
     "data": {
      "text/plain": [
       "[5.8, 6.4, 7.0]"
      ]
     },
     "execution_count": 11,
     "metadata": {},
     "output_type": "execute_result"
    }
   ],
   "source": [
    "model = Linear()\n",
    "model.fit(X,y)\n",
    "print(f\"Slope : {model.slope} Intercept : {model.intercept}\")\n",
    "model.predict([6,7,8])"
   ]
  },
  {
   "cell_type": "code",
   "execution_count": null,
   "id": "7341db93",
   "metadata": {},
   "outputs": [],
   "source": []
  },
  {
   "cell_type": "code",
   "execution_count": null,
   "id": "136879d3",
   "metadata": {},
   "outputs": [],
   "source": []
  }
 ],
 "metadata": {
  "kernelspec": {
   "display_name": ".venv",
   "language": "python",
   "name": "python3"
  },
  "language_info": {
   "codemirror_mode": {
    "name": "ipython",
    "version": 3
   },
   "file_extension": ".py",
   "mimetype": "text/x-python",
   "name": "python",
   "nbconvert_exporter": "python",
   "pygments_lexer": "ipython3",
   "version": "3.13.3"
  }
 },
 "nbformat": 4,
 "nbformat_minor": 5
}
