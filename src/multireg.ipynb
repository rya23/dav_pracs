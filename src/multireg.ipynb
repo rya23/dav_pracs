{
 "cells": [
  {
   "cell_type": "code",
   "execution_count": 1,
   "id": "d009e096",
   "metadata": {},
   "outputs": [],
   "source": [
    "import numpy as np"
   ]
  },
  {
   "cell_type": "code",
   "execution_count": null,
   "id": "ad9c4d3a",
   "metadata": {},
   "outputs": [],
   "source": [
    "X = np.array([\n",
    "    [1, 2],\n",
    "    [2, 0],\n",
    "    [3, 1],\n",
    "    [4, 3]\n",
    "])\n",
    "\n",
    "y = np.array([5, 6, 7, 10])"
   ]
  },
  {
   "cell_type": "code",
   "execution_count": null,
   "id": "fdb734e1",
   "metadata": {},
   "outputs": [],
   "source": [
    "## b=(X^T*X)^(−1) * X^T*y"
   ]
  },
  {
   "cell_type": "code",
   "execution_count": 5,
   "id": "150ae604",
   "metadata": {},
   "outputs": [],
   "source": [
    "class MultipleLinearRegression:\n",
    "    def __init__(self):\n",
    "        self.coeff=None\n",
    "    \n",
    "    def fit(self,X,y):\n",
    "\n",
    "        X_b = np.hstack([np.ones((len(X),1)),X])\n",
    "        self.coeff = np.linalg.inv(X_b.T @ X_b) @ X_b.T @ y\n",
    "\n",
    "    def predict(self,X):\n",
    "        X_b = np.hstack([np.ones((len(X),1)),X])\n",
    "        return X_b@self.coeff"
   ]
  },
  {
   "cell_type": "code",
   "execution_count": 8,
   "id": "1542f81b",
   "metadata": {},
   "outputs": [
    {
     "name": "stdout",
     "output_type": "stream",
     "text": [
      "[2.78571429 1.42857143 0.42857143]\n",
      "Prediction: [10.78571429]\n"
     ]
    }
   ],
   "source": [
    "model = MultipleLinearRegression()\n",
    "model.fit(X,y)\n",
    "print(model.coeff)\n",
    "X_test = np.array([\n",
    "    [5, 2]\n",
    "])\n",
    "print(\"Prediction:\", model.predict(X_test))"
   ]
  }
 ],
 "metadata": {
  "kernelspec": {
   "display_name": ".venv",
   "language": "python",
   "name": "python3"
  },
  "language_info": {
   "codemirror_mode": {
    "name": "ipython",
    "version": 3
   },
   "file_extension": ".py",
   "mimetype": "text/x-python",
   "name": "python",
   "nbconvert_exporter": "python",
   "pygments_lexer": "ipython3",
   "version": "3.13.3"
  }
 },
 "nbformat": 4,
 "nbformat_minor": 5
}
