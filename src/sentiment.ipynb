{
 "cells": [
  {
   "cell_type": "code",
   "execution_count": 1,
   "id": "abf74fb8",
   "metadata": {},
   "outputs": [],
   "source": [
    "from textblob import TextBlob"
   ]
  },
  {
   "cell_type": "code",
   "execution_count": 15,
   "id": "3cc702b0",
   "metadata": {},
   "outputs": [],
   "source": [
    "text = \"I love the new design, but the battery life could be better.\""
   ]
  },
  {
   "cell_type": "code",
   "execution_count": 16,
   "id": "215ac5f6",
   "metadata": {},
   "outputs": [],
   "source": [
    "blob  = TextBlob(text)"
   ]
  },
  {
   "cell_type": "code",
   "execution_count": 17,
   "metadata": {},
   "outputs": [
    {
     "data": {
      "text/plain": [
       "Sentiment(polarity=0.37878787878787873, subjectivity=0.5181818181818182)"
      ]
     },
     "execution_count": 17,
     "metadata": {},
     "output_type": "execute_result"
    }
   ],
   "source": [
    "sentiment = blob.sentiment\n",
    "sentiment"
   ]
  },
  {
   "cell_type": "code",
   "execution_count": 18,
   "id": "3be93695",
   "metadata": {},
   "outputs": [
    {
     "name": "stdout",
     "output_type": "stream",
     "text": [
      "Sentiment: Polarity = 0.37878787878787873, Subjectivity = 0.5181818181818182\n"
     ]
    }
   ],
   "source": [
    "## Polarity: A float value between -1 and 1. A value closer to 1 means positive sentiment, and a value closer to -1 means negative sentiment.\n",
    "## Subjectivity: A value between 0 and 1. Values closer to 1 indicate subjective opinions (like reviews), and values closer to 0 indicate factual information.\n",
    "print(f\"Sentiment: Polarity = {sentiment.polarity}, Subjectivity = {sentiment.subjectivity}\")\n"
   ]
  },
  {
   "cell_type": "code",
   "execution_count": 19,
   "id": "54f24d74",
   "metadata": {},
   "outputs": [
    {
     "name": "stdout",
     "output_type": "stream",
     "text": [
      "Sentiment: Positive\n"
     ]
    }
   ],
   "source": [
    "if sentiment.polarity > 0:\n",
    "    print(\"Sentiment: Positive\")\n",
    "elif sentiment.polarity < 0:\n",
    "    print(\"Sentiment: Negative\")\n",
    "else:\n",
    "    print(\"Sentiment: Neutral\")"
   ]
  },
  {
   "cell_type": "code",
   "execution_count": null,
   "id": "f4f5222c",
   "metadata": {},
   "outputs": [],
   "source": []
  },
  {
   "cell_type": "code",
   "execution_count": null,
   "id": "20b7379f",
   "metadata": {},
   "outputs": [],
   "source": []
  },
  {
   "cell_type": "code",
   "execution_count": null,
   "id": "46d3b463",
   "metadata": {},
   "outputs": [],
   "source": []
  }
 ],
 "metadata": {
  "kernelspec": {
   "display_name": ".venv",
   "language": "python",
   "name": "python3"
  },
  "language_info": {
   "codemirror_mode": {
    "name": "ipython",
    "version": 3
   },
   "file_extension": ".py",
   "mimetype": "text/x-python",
   "name": "python",
   "nbconvert_exporter": "python",
   "pygments_lexer": "ipython3",
   "version": "3.13.3"
  }
 },
 "nbformat": 4,
 "nbformat_minor": 5
}
